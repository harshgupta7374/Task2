{
 "cells": [
  {
   "cell_type": "markdown",
   "id": "91facaab",
   "metadata": {},
   "source": [
    "#  #TASK-2"
   ]
  },
  {
   "cell_type": "markdown",
   "id": "ee72f325",
   "metadata": {},
   "source": [
    "# Reg id:- SIRSS2130"
   ]
  },
  {
   "cell_type": "markdown",
   "id": "1275684c",
   "metadata": {},
   "source": [
    "# HARSHIT GUPTA"
   ]
  },
  {
   "cell_type": "markdown",
   "id": "fa7b787f",
   "metadata": {},
   "source": [
    "# Q1. Write a lambda expression to extract first word of a string."
   ]
  },
  {
   "cell_type": "code",
   "execution_count": 1,
   "id": "b907803c",
   "metadata": {},
   "outputs": [
    {
     "name": "stdout",
     "output_type": "stream",
     "text": [
      "Enter a String : HELLO JAY SHREE RAM\n",
      "First word of a given string :  HELLO\n"
     ]
    }
   ],
   "source": [
    "s = input(\"Enter a String : \")\n",
    "\n",
    "n = lambda x: x.split()[0]\n",
    "print(\"First word of a given string : \",n(s))"
   ]
  },
  {
   "cell_type": "markdown",
   "id": "3114859a",
   "metadata": {},
   "source": [
    "# Q2. Write a function to extract first word of s string (with many words separated by space)."
   ]
  },
  {
   "cell_type": "code",
   "execution_count": 3,
   "id": "1c77fa0a",
   "metadata": {},
   "outputs": [
    {
     "name": "stdout",
     "output_type": "stream",
     "text": [
      "Enter a String : hi this is harshit\n",
      "First word of a given String :  hi\n"
     ]
    }
   ],
   "source": [
    "STR = input(\"Enter a String : \")\n",
    "\n",
    "def first_word(st) :\n",
    "     return st.split()[0]\n",
    "    \n",
    "print(\"First word of a given String : \", first_word(STR))"
   ]
  },
  {
   "cell_type": "markdown",
   "id": "f7658f47",
   "metadata": {},
   "source": [
    "# Q3. Extract the first word from every string from a list of strings by using map function."
   ]
  },
  {
   "cell_type": "code",
   "execution_count": 4,
   "id": "b12b1b38",
   "metadata": {},
   "outputs": [
    {
     "name": "stdout",
     "output_type": "stream",
     "text": [
      "['HELLO', 'Submission', 'hi', 'Extract']\n"
     ]
    }
   ],
   "source": [
    "st=['HELLO JAY SHREE RAM','Submission steps will be same','hi this is harshit','Extract the first word']\n",
    "p=lambda a:a.split()[0]\n",
    "print(list(map(p,st)))"
   ]
  },
  {
   "cell_type": "markdown",
   "id": "b94b8fce",
   "metadata": {},
   "source": [
    "# Q4. Write a function to return a list of prime factors of a given number"
   ]
  },
  {
   "cell_type": "code",
   "execution_count": 7,
   "id": "3ea1083d",
   "metadata": {},
   "outputs": [
    {
     "name": "stdout",
     "output_type": "stream",
     "text": [
      "Enter a number35\n",
      "prime factors of  35 are : [5, 7]\n"
     ]
    }
   ],
   "source": [
    "def prime(n):\n",
    "    for i in range(2,n):\n",
    "        if(n%i==0):\n",
    "            return False\n",
    "            break\n",
    "    return True\n",
    "def primef(n):\n",
    "    l=[]\n",
    "    for i in range(2,n+1):\n",
    "        if(n%i==0):\n",
    "            if(prime(i)):\n",
    "                l.append(i)\n",
    "    return l\n",
    "n=int(input('Enter a number'))\n",
    "print('prime factors of ',n,'are :',primef(n))"
   ]
  },
  {
   "cell_type": "markdown",
   "id": "db5b8b18",
   "metadata": {},
   "source": [
    "# Q5. Write a function that finds 2nd largest among 4 numbers (Repetitions are allowed,without sorting)."
   ]
  },
  {
   "cell_type": "code",
   "execution_count": 9,
   "id": "f68777d6",
   "metadata": {},
   "outputs": [
    {
     "name": "stdout",
     "output_type": "stream",
     "text": [
      "Enter any four numbers : 5 9 2 54\n",
      "9\n"
     ]
    }
   ],
   "source": [
    "def secondlarge(l):\n",
    "    new_list=set(l)\n",
    "    new_list.remove(max(new_list))\n",
    "    print(max(new_list))\n",
    "a = list(map(int,input(\"Enter any four numbers : \").split()))\n",
    "secondlarge(a)"
   ]
  },
  {
   "cell_type": "code",
   "execution_count": null,
   "id": "c5285716",
   "metadata": {},
   "outputs": [],
   "source": []
  }
 ],
 "metadata": {
  "kernelspec": {
   "display_name": "Python 3",
   "language": "python",
   "name": "python3"
  },
  "language_info": {
   "codemirror_mode": {
    "name": "ipython",
    "version": 3
   },
   "file_extension": ".py",
   "mimetype": "text/x-python",
   "name": "python",
   "nbconvert_exporter": "python",
   "pygments_lexer": "ipython3",
   "version": "3.8.8"
  }
 },
 "nbformat": 4,
 "nbformat_minor": 5
}
